{
 "cells": [
  {
   "cell_type": "markdown",
   "id": "5f7d5bd3",
   "metadata": {},
   "source": [
    "# CNN on MNIST dataset\n",
    "*Graphing results for a CNN on the MNIST dataset*"
   ]
  },
  {
   "cell_type": "markdown",
   "id": "97828ddf",
   "metadata": {},
   "source": [
    "# NOTE:\n",
    "### Training the network is *significantly* faster while using high performance training on GPU with MacOS MPS (Metal Performance Shaders)\n",
    "* Training with M2 Max CPU: 88 seconds\n",
    "* Training with Google Colab T4 GPU: 39 seconds\n",
    "* Training with M2 Max MPS enabled: 25 seconds"
   ]
  },
  {
   "cell_type": "markdown",
   "id": "e6521ceb",
   "metadata": {},
   "source": [
    "### Packages and Data Manipulation"
   ]
  },
  {
   "cell_type": "code",
   "execution_count": 90,
   "id": "22319701",
   "metadata": {},
   "outputs": [],
   "source": [
    "import torch\n",
    "import torchvision #this package includes many of the most popular datasets\n",
    "import torchvision.transforms as transforms\n",
    "\n",
    "import numpy as np\n",
    "\n",
    "#plotting\n",
    "import matplotlib.pyplot as plt"
   ]
  },
  {
   "cell_type": "code",
   "execution_count": 91,
   "id": "84fd4cd4",
   "metadata": {},
   "outputs": [],
   "source": [
    "# load the data\n",
    "batch_size = 128\n",
    "batch_size = 32\n",
    "data_path='./data'\n",
    "\n",
    "dtype = torch.float\n",
    "# for nvidia gpus with cuda cores\n",
    "#device = torch.device(\"cuda\") if torch.cuda.is_available() else torch.device(\"cpu\")\n",
    "\n",
    "# for apple m1 or m2 chips\n",
    "device = torch.device(\"mps\")\n"
   ]
  },
  {
   "cell_type": "code",
   "execution_count": 92,
   "id": "ab0dbea5",
   "metadata": {},
   "outputs": [],
   "source": [
    "# Define a transform\n",
    "transform = transforms.Compose([\n",
    "            transforms.Resize((28, 28)),\n",
    "            transforms.Grayscale(),\n",
    "            transforms.ToTensor(),\n",
    "            transforms.Normalize((0,), (1,))])\n",
    "\n",
    "mnist_train = torchvision.datasets.MNIST(root=data_path, train=True, download=True, transform=transform)\n",
    "mnist_test = torchvision.datasets.MNIST(root=data_path, train=False, download=True, transform=transform)"
   ]
  },
  {
   "cell_type": "markdown",
   "id": "e91b12a5",
   "metadata": {},
   "source": [
    "### Visualizations"
   ]
  },
  {
   "cell_type": "code",
   "execution_count": 93,
   "id": "a89a2b7e",
   "metadata": {},
   "outputs": [
    {
     "data": {
      "text/plain": [
       "<matplotlib.image.AxesImage at 0x7fb5e145bf40>"
      ]
     },
     "execution_count": 93,
     "metadata": {},
     "output_type": "execute_result"
    },
    {
     "data": {
      "image/png": "[encoded data removed]",
      "text/plain": [
       "<Figure size 640x480 with 1 Axes>"
      ]
     },
     "metadata": {},
     "output_type": "display_data"
    }
   ],
   "source": [
    "# visualizing data using dataloader\n",
    "\n",
    "from torch.utils.data import DataLoader\n",
    "\n",
    "train_loader = DataLoader(mnist_train, batch_size=batch_size, shuffle=True, drop_last=True)\n",
    "test_loader = DataLoader(mnist_test, batch_size=batch_size, shuffle=True, drop_last=True)\n",
    "\n",
    "images, labels = next(iter(train_loader))\n",
    "plt.imshow(images[0].reshape(28, 28), cmap=\"gray\")"
   ]
  },
  {
   "cell_type": "code",
   "execution_count": 94,
   "id": "68b0448f",
   "metadata": {
    "scrolled": true
   },
   "outputs": [
    {
     "name": "stdout",
     "output_type": "stream",
     "text": [
      "torch.Size([32, 1, 28, 28])\n",
      "tensor(8)\n"
     ]
    }
   ],
   "source": [
    "print(images.shape)\n",
    "print(labels[0])"
   ]
  },
  {
   "cell_type": "code",
   "execution_count": 95,
   "id": "d1dbbeb6",
   "metadata": {
    "scrolled": true
   },
   "outputs": [
    {
     "name": "stdout",
     "output_type": "stream",
     "text": [
      "Dataset MNIST\n",
      "    Number of datapoints: 60000\n",
      "    Root location: ./data\n",
      "    Split: Train\n",
      "    StandardTransform\n",
      "Transform: Compose(\n",
      "               Resize(size=(28, 28), interpolation=bilinear, max_size=None, antialias=warn)\n",
      "               Grayscale(num_output_channels=1)\n",
      "               ToTensor()\n",
      "               Normalize(mean=(0,), std=(1,))\n",
      "           )\n"
     ]
    }
   ],
   "source": [
    "print(mnist_train)"
   ]
  },
  {
   "cell_type": "code",
   "execution_count": null,
   "id": "688d2dfb",
   "metadata": {},
   "outputs": [],
   "source": []
  },
  {
   "cell_type": "markdown",
   "id": "2d131b2b",
   "metadata": {},
   "source": [
    "### Network Definition"
   ]
  },
  {
   "cell_type": "code",
   "execution_count": 96,
   "id": "af1d38ba",
   "metadata": {},
   "outputs": [
    {
     "data": {
      "text/plain": [
       "Net(\n",
       "  (conv1): Conv2d(1, 32, kernel_size=(3, 3), stride=(1, 1))\n",
       "  (conv2): Conv2d(32, 64, kernel_size=(3, 3), stride=(1, 1))\n",
       "  (fc1): Linear(in_features=36864, out_features=128, bias=True)\n",
       "  (fc2): Linear(in_features=128, out_features=10, bias=True)\n",
       ")"
      ]
     },
     "execution_count": 96,
     "metadata": {},
     "output_type": "execute_result"
    }
   ],
   "source": [
    "# importing package\n",
    "import torch.nn as nn\n",
    "import torch.nn.functional as F\n",
    "\n",
    "class Net(nn.Module):\n",
    "    def __init__(self):\n",
    "        super().__init__()\n",
    "        # here are the layers\n",
    "        \n",
    "        # these are convolutional 2d layers. the numbers represent input, output, and kernel size, respectively\n",
    "        # the kernel size is the size of the filter that is slided over the image, in this case, 3x3\n",
    "        self.conv1 = nn.Conv2d(1, 32, 3)\n",
    "        self.conv2 = nn.Conv2d(32, 64, 3)\n",
    "        self.fc1 = nn.Linear(64 * 24 * 24, 128)\n",
    "        self.fc2 = nn.Linear(128, 10)\n",
    "    \n",
    "    def forward(self, x):\n",
    "        x = self.conv1(x)\n",
    "        x = F.relu(x)\n",
    "        x = self.conv2(x)\n",
    "        x = F.relu(x)\n",
    "        x = torch.flatten(x, 1)\n",
    "        x = self.fc1(x)\n",
    "        x = F.relu(x)\n",
    "        x = self.fc2(x)\n",
    "        return x\n",
    "\n",
    "net = Net()\n",
    "net.to(device)"
   ]
  },
  {
   "cell_type": "code",
   "execution_count": 97,
   "id": "346b1eae",
   "metadata": {},
   "outputs": [],
   "source": [
    "import torch.optim as optim\n",
    "criterion = nn.CrossEntropyLoss()\n",
    "optimizer = optim.SGD(net.parameters(), lr=0.001, momentum=0.9)"
   ]
  },
  {
   "cell_type": "markdown",
   "id": "b1e633aa",
   "metadata": {},
   "source": [
    "### Net Training"
   ]
  },
  {
   "cell_type": "code",
   "execution_count": 98,
   "id": "2a74e65c",
   "metadata": {
    "scrolled": true
   },
   "outputs": [
    {
     "name": "stdout",
     "output_type": "stream",
     "text": [
      "[1,    50] loss: 0.057 | time: 0.85s\n",
      "[1,   100] loss: 0.050 | time: 1.36s\n",
      "[1,   150] loss: 0.028 | time: 1.87s\n",
      "[1,   200] loss: 0.014 | time: 2.37s\n",
      "[1,   250] loss: 0.012 | time: 2.88s\n",
      "[1,   300] loss: 0.010 | time: 3.38s\n",
      "[1,   350] loss: 0.010 | time: 3.87s\n",
      "[1,   400] loss: 0.010 | time: 4.38s\n",
      "[1,   450] loss: 0.009 | time: 4.88s\n",
      "[1,   500] loss: 0.010 | time: 5.38s\n",
      "[1,   550] loss: 0.010 | time: 5.89s\n",
      "[1,   600] loss: 0.007 | time: 6.38s\n",
      "[1,   650] loss: 0.009 | time: 6.88s\n",
      "[1,   700] loss: 0.008 | time: 7.39s\n",
      "[1,   750] loss: 0.009 | time: 7.89s\n",
      "[1,   800] loss: 0.009 | time: 8.39s\n",
      "[1,   850] loss: 0.007 | time: 8.89s\n",
      "[1,   900] loss: 0.007 | time: 9.39s\n",
      "[1,   950] loss: 0.008 | time: 9.89s\n",
      "[1,  1000] loss: 0.008 | time: 10.39s\n",
      "[1,  1050] loss: 0.007 | time: 10.90s\n",
      "[1,  1100] loss: 0.006 | time: 11.40s\n",
      "[1,  1150] loss: 0.006 | time: 11.90s\n",
      "[1,  1200] loss: 0.007 | time: 12.40s\n",
      "[1,  1250] loss: 0.007 | time: 12.90s\n",
      "[1,  1300] loss: 0.006 | time: 13.40s\n",
      "[1,  1350] loss: 0.006 | time: 13.90s\n",
      "[1,  1400] loss: 0.006 | time: 14.40s\n",
      "[1,  1450] loss: 0.005 | time: 14.90s\n",
      "[1,  1500] loss: 0.006 | time: 15.40s\n",
      "[1,  1550] loss: 0.005 | time: 15.90s\n",
      "[1,  1600] loss: 0.005 | time: 16.40s\n",
      "[1,  1650] loss: 0.004 | time: 16.90s\n",
      "[1,  1700] loss: 0.005 | time: 17.43s\n",
      "[1,  1750] loss: 0.005 | time: 17.93s\n",
      "[1,  1800] loss: 0.005 | time: 18.43s\n",
      "[1,  1850] loss: 0.005 | time: 18.93s\n",
      "[2,    50] loss: 0.005 | time: 19.68s\n",
      "[2,   100] loss: 0.005 | time: 20.18s\n",
      "[2,   150] loss: 0.004 | time: 20.68s\n",
      "[2,   200] loss: 0.005 | time: 21.19s\n",
      "[2,   250] loss: 0.004 | time: 21.69s\n",
      "[2,   300] loss: 0.004 | time: 22.19s\n",
      "[2,   350] loss: 0.005 | time: 22.69s\n",
      "[2,   400] loss: 0.004 | time: 23.19s\n",
      "[2,   450] loss: 0.004 | time: 23.69s\n",
      "[2,   500] loss: 0.004 | time: 24.19s\n",
      "[2,   550] loss: 0.004 | time: 24.69s\n",
      "[2,   600] loss: 0.004 | time: 25.19s\n",
      "[2,   650] loss: 0.004 | time: 25.70s\n",
      "[2,   700] loss: 0.003 | time: 26.21s\n",
      "[2,   750] loss: 0.004 | time: 26.72s\n",
      "[2,   800] loss: 0.004 | time: 27.22s\n",
      "[2,   850] loss: 0.003 | time: 27.73s\n",
      "[2,   900] loss: 0.003 | time: 28.23s\n",
      "[2,   950] loss: 0.003 | time: 28.73s\n",
      "[2,  1000] loss: 0.004 | time: 29.22s\n",
      "[2,  1050] loss: 0.004 | time: 29.72s\n",
      "[2,  1100] loss: 0.004 | time: 30.22s\n",
      "[2,  1150] loss: 0.004 | time: 30.72s\n",
      "[2,  1200] loss: 0.005 | time: 31.22s\n",
      "[2,  1250] loss: 0.004 | time: 31.73s\n",
      "[2,  1300] loss: 0.003 | time: 32.23s\n",
      "[2,  1350] loss: 0.005 | time: 32.73s\n",
      "[2,  1400] loss: 0.003 | time: 33.23s\n",
      "[2,  1450] loss: 0.003 | time: 33.74s\n",
      "[2,  1500] loss: 0.003 | time: 34.24s\n",
      "[2,  1550] loss: 0.004 | time: 34.74s\n",
      "[2,  1600] loss: 0.004 | time: 35.24s\n",
      "[2,  1650] loss: 0.004 | time: 35.74s\n",
      "[2,  1700] loss: 0.004 | time: 36.24s\n",
      "[2,  1750] loss: 0.003 | time: 36.74s\n",
      "[2,  1800] loss: 0.004 | time: 37.24s\n",
      "[2,  1850] loss: 0.003 | time: 37.74s\n",
      "Finished Training\n",
      "Training took 38.00 seconds\n"
     ]
    }
   ],
   "source": [
    "import time\n",
    "start_time = time.time()\n",
    "for epoch in range(2):  # loop over the dataset multiple times\n",
    "\n",
    "    running_loss = 0.0\n",
    "    for i, data in enumerate(train_loader, 0):\n",
    "        # get the inputs; data is a list of [inputs, labels]\n",
    "        \n",
    "        inputs, labels = data\n",
    "        inputs = inputs.to(device)\n",
    "        labels = labels.to(device)\n",
    "        # zero the parameter gradients\n",
    "        optimizer.zero_grad()\n",
    "\n",
    "        # forward + backward + optimize\n",
    "        outputs = net(inputs)\n",
    "        loss = criterion(outputs, labels)\n",
    "        loss.backward()\n",
    "        optimizer.step()\n",
    "\n",
    "        # print statistics\n",
    "        running_loss += loss.item()\n",
    "        if i % 50 == 49:    # print every 50 mini-batches\n",
    "            print(f'[{epoch + 1}, {i + 1:5d}] loss: {running_loss / 2000:.3f} | time: {time.time() - start_time:.2f}s')\n",
    "            running_loss = 0.0\n",
    "end_time = time.time()  # Record end time\n",
    "print('Finished Training')\n",
    "print(f\"Training took {end_time - start_time:.2f} seconds\")"
   ]
  },
  {
   "cell_type": "code",
   "execution_count": 108,
   "id": "b648dc19",
   "metadata": {},
   "outputs": [],
   "source": [
    "# save model\n",
    "PATH = './model/mnist_cnn_net.pth'\n",
    "torch.save(net.state_dict(), PATH)"
   ]
  },
  {
   "cell_type": "code",
   "execution_count": 109,
   "id": "6148d151",
   "metadata": {},
   "outputs": [
    {
     "data": {
      "text/plain": [
       "<All keys matched successfully>"
      ]
     },
     "execution_count": 109,
     "metadata": {},
     "output_type": "execute_result"
    }
   ],
   "source": [
    "# load model\n",
    "net.load_state_dict(torch.load(PATH))"
   ]
  },
  {
   "cell_type": "code",
   "execution_count": 110,
   "id": "6be6bb23",
   "metadata": {},
   "outputs": [
    {
     "data": {
      "text/plain": [
       "Net(\n",
       "  (conv1): Conv2d(1, 32, kernel_size=(3, 3), stride=(1, 1))\n",
       "  (conv2): Conv2d(32, 64, kernel_size=(3, 3), stride=(1, 1))\n",
       "  (fc1): Linear(in_features=36864, out_features=128, bias=True)\n",
       "  (fc2): Linear(in_features=128, out_features=10, bias=True)\n",
       ")"
      ]
     },
     "execution_count": 110,
     "metadata": {},
     "output_type": "execute_result"
    }
   ],
   "source": [
    "net.eval()"
   ]
  },
  {
   "cell_type": "markdown",
   "id": "7a547d1f",
   "metadata": {},
   "source": [
    "### Accuracy Check"
   ]
  },
  {
   "cell_type": "code",
   "execution_count": 111,
   "id": "b683cb45",
   "metadata": {},
   "outputs": [
    {
     "name": "stdout",
     "output_type": "stream",
     "text": [
      "Accuracy of the network on the test images: 96.68%\n"
     ]
    }
   ],
   "source": [
    "correct = 0\n",
    "total = 0\n",
    "\n",
    "with torch.no_grad():  # We don't need gradients for evaluation\n",
    "    for data in test_loader:  # Assuming test_loader is your validation/test data loader\n",
    "        images, labels = data\n",
    "        images = images.to(device)\n",
    "        labels = labels.to(device)\n",
    "        outputs = net(images)\n",
    "        \n",
    "        # Get the predicted class for each sample in the batch\n",
    "        _, predicted = torch.max(outputs.data, 1)\n",
    "        \n",
    "        # Update total number of samples and number of correct predictions\n",
    "        total += labels.size(0)\n",
    "        correct += (predicted == labels).sum().item()\n",
    "\n",
    "accuracy = 100 * correct / total\n",
    "print(f'Accuracy of the network on the test images: {accuracy:.2f}%')\n"
   ]
  },
  {
   "cell_type": "code",
   "execution_count": null,
   "id": "b38f0efe",
   "metadata": {},
   "outputs": [],
   "source": []
  }
 ],
 "metadata": {
  "kernelspec": {
   "display_name": "scnncifar10",
   "language": "python",
   "name": "scnncifar10"
  },
  "language_info": {
   "codemirror_mode": {
    "name": "ipython",
    "version": 3
   },
   "file_extension": ".py",
   "mimetype": "text/x-python",
   "name": "python",
   "nbconvert_exporter": "python",
   "pygments_lexer": "ipython3",
   "version": "3.9.12"
  }
 },
 "nbformat": 4,
 "nbformat_minor": 5
}
